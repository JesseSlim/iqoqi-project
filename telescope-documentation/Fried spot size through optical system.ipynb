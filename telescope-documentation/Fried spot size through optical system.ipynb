{
 "cells": [
  {
   "cell_type": "markdown",
   "metadata": {},
   "source": [
    "# Fried spot size calculations through an optical system"
   ]
  },
  {
   "cell_type": "code",
   "execution_count": 1,
   "metadata": {
    "collapsed": false
   },
   "outputs": [],
   "source": [
    "%matplotlib inline\n",
    "\n",
    "import numpy as np\n",
    "import sympy as sp\n",
    "import matplotlib.pyplot as plt\n",
    "from IPython.display import display\n",
    "from enum import Enum\n",
    "\n",
    "sp.init_printing()"
   ]
  },
  {
   "cell_type": "code",
   "execution_count": 2,
   "metadata": {
    "collapsed": false
   },
   "outputs": [],
   "source": [
    "lbda, D, r_0, A, M, f_3, d = sp.symbols(\"lambda, D, r_0, A, M, f_3, d\")"
   ]
  },
  {
   "cell_type": "markdown",
   "metadata": {},
   "source": [
    "These formula for single-spot Fried motion are taken from [Sarazin & Roddier 1989]\n",
    "\n",
    "Two-spot differential motion is in the same order of magnitude and depends on the separation (0.3-0.8 * single-spot). A better treatment of two-spot differential motion is given in [Tokovinin 2002: From Differential Image Motion to Seeing], but I only found out about/understood that paper later on."
   ]
  },
  {
   "cell_type": "code",
   "execution_count": 3,
   "metadata": {
    "collapsed": false
   },
   "outputs": [
    {
     "data": {
      "image/png": "[encoded data removed]",
      "text/latex": [
       "$$A \\sqrt[3]{\\frac{\\lambda}{D}} \\left(\\frac{\\lambda}{r_{0}}\\right)^{\\frac{5}{3}}$$"
      ],
      "text/plain": [
       "      ___     5/3\n",
       "     ╱ λ  ⎛λ ⎞   \n",
       "A⋅3 ╱  ─ ⋅⎜──⎟   \n",
       "  ╲╱   D  ⎝r₀⎠   "
      ]
     },
     "metadata": {},
     "output_type": "display_data"
    },
    {
     "data": {
      "image/png": "[encoded data removed]",
      "text/latex": [
       "$$\\sqrt{A \\sqrt[3]{\\frac{\\lambda}{D}} \\left(\\frac{\\lambda}{r_{0}}\\right)^{\\frac{5}{3}}}$$"
      ],
      "text/plain": [
       "     ___________________\n",
       "    ╱       ___     5/3 \n",
       "   ╱       ╱ λ  ⎛λ ⎞    \n",
       "  ╱   A⋅3 ╱  ─ ⋅⎜──⎟    \n",
       "╲╱      ╲╱   D  ⎝r₀⎠    "
      ]
     },
     "metadata": {},
     "output_type": "display_data"
    },
    {
     "data": {
      "image/png": "[encoded data removed]",
      "text/latex": [
       "$$\\frac{f_{3}}{M} \\sqrt{A \\sqrt[3]{\\frac{\\lambda}{D}} \\left(\\frac{\\lambda}{r_{0}}\\right)^{\\frac{5}{3}}}$$"
      ],
      "text/plain": [
       "        ___________________\n",
       "       ╱       ___     5/3 \n",
       "      ╱       ╱ λ  ⎛λ ⎞    \n",
       "f₃⋅  ╱   A⋅3 ╱  ─ ⋅⎜──⎟    \n",
       "   ╲╱      ╲╱   D  ⎝r₀⎠    \n",
       "───────────────────────────\n",
       "             M             "
      ]
     },
     "metadata": {},
     "output_type": "display_data"
    }
   ],
   "source": [
    "sigma_m_sq = A * (lbda / D) ** (sp.Rational(1,3)) * (lbda / r_0) ** (sp.Rational(5,3))\n",
    "sigma_m = sp.sqrt(sigma_m_sq)\n",
    "\n",
    "M_theta = f_3/M\n",
    "\n",
    "mag_sigma_m = sigma_m * M_theta\n",
    "\n",
    "display(sigma_m_sq)\n",
    "display(sigma_m)\n",
    "display(mag_sigma_m)"
   ]
  },
  {
   "cell_type": "code",
   "execution_count": 5,
   "metadata": {
    "collapsed": false
   },
   "outputs": [
    {
     "name": "stdout",
     "output_type": "stream",
     "text": [
      "Single lens Fried spot motion [urad]:\n"
     ]
    },
    {
     "data": {
      "image/png": "[encoded data removed]",
      "text/latex": [
       "$$30.0$$"
      ],
      "text/plain": [
       "30.0000000000000"
      ]
     },
     "metadata": {},
     "output_type": "display_data"
    },
    {
     "name": "stdout",
     "output_type": "stream",
     "text": [
      "Optical system Fried spot motion [um]:\n"
     ]
    },
    {
     "data": {
      "image/png": "[encoded data removed]",
      "text/latex": [
       "$$60.0$$"
      ],
      "text/plain": [
       "60.0000000000000"
      ]
     },
     "metadata": {},
     "output_type": "display_data"
    }
   ],
   "source": [
    "params = [(lbda, 500e-9), (D, 10e-3), (A, 0.36), (r_0, 10e-3), (f_3, 500), (M, 50/200)]\n",
    "\n",
    "print(\"Single lens Fried spot motion [urad]:\")\n",
    "display(sigma_m.subs(params).evalf() * 1e6)\n",
    "\n",
    "print(\"Optical system Fried spot motion [um]:\")\n",
    "display(mag_sigma_m.subs(params).evalf()*1000)"
   ]
  },
  {
   "cell_type": "code",
   "execution_count": null,
   "metadata": {
    "collapsed": false
   },
   "outputs": [],
   "source": []
  },
  {
   "cell_type": "code",
   "execution_count": null,
   "metadata": {
    "collapsed": true
   },
   "outputs": [],
   "source": []
  },
  {
   "cell_type": "code",
   "execution_count": null,
   "metadata": {
    "collapsed": true
   },
   "outputs": [],
   "source": []
  }
 ],
 "metadata": {
  "anaconda-cloud": {},
  "kernelspec": {
   "display_name": "Python [conda root]",
   "language": "python",
   "name": "conda-root-py"
  },
  "language_info": {
   "codemirror_mode": {
    "name": "ipython",
    "version": 3
   },
   "file_extension": ".py",
   "mimetype": "text/x-python",
   "name": "python",
   "nbconvert_exporter": "python",
   "pygments_lexer": "ipython3",
   "version": "3.5.2"
  }
 },
 "nbformat": 4,
 "nbformat_minor": 0
}
