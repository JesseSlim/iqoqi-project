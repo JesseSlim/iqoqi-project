{
 "cells": [
  {
   "cell_type": "markdown",
   "metadata": {},
   "source": [
    "# Fried parameter measurement - optical setup\n",
    "\n",
    "## Transfer matrix calculations"
   ]
  },
  {
   "cell_type": "code",
   "execution_count": 1,
   "metadata": {
    "collapsed": false
   },
   "outputs": [],
   "source": [
    "%matplotlib inline\n",
    "\n",
    "import numpy as np\n",
    "import sympy as sp\n",
    "import matplotlib.pyplot as plt\n",
    "from IPython.display import display\n",
    "from enum import Enum\n",
    "\n",
    "sp.init_printing()"
   ]
  },
  {
   "cell_type": "code",
   "execution_count": 2,
   "metadata": {
    "collapsed": true
   },
   "outputs": [],
   "source": [
    "# transfer matrices\n",
    "\n",
    "def T_propagation(d):\n",
    "    return sp.Matrix([[1, d],[0,1]])\n",
    "\n",
    "def T_thinlens(f):\n",
    "    return sp.Matrix([[1,0],[-1/f, 1]])\n",
    "\n",
    "# offset vector (non-linear)\n",
    "\n",
    "def OS_wedgeprism(alpha):\n",
    "    return sp.Matrix([0, alpha])"
   ]
  },
  {
   "cell_type": "code",
   "execution_count": 3,
   "metadata": {
    "collapsed": false
   },
   "outputs": [],
   "source": [
    "f_1, f_2, f_3, d_coll, d_tele, d_focus, M, delta = sp.symbols(\"f_1, f_2, f_3, d_coll, d_tele, d_focus, M, delta\")"
   ]
  },
  {
   "cell_type": "markdown",
   "metadata": {
    "collapsed": false
   },
   "source": [
    "### Construct a transfer matrix for all optical parts"
   ]
  },
  {
   "cell_type": "code",
   "execution_count": 4,
   "metadata": {
    "collapsed": false
   },
   "outputs": [],
   "source": [
    "def sp2np(m, params = None):\n",
    "    if (params):\n",
    "        m = m.subs(params)\n",
    "    return np.asarray(m.tolist(), dtype=np.float64)\n",
    "\n",
    "OpticalElementType = Enum('OpticalElementType', ['lens', 'propagation', 'wedge_prism'])\n",
    "\n",
    "class Limits:\n",
    "    def __init__(self, lower, upper):\n",
    "        if (upper < lower):\n",
    "            raise ValueError(\"Upper limit is below lower limit\")\n",
    "        self.lower = lower\n",
    "        self.upper = upper\n",
    "        \n",
    "    def is_inside(self, x):\n",
    "        if (self.lower != None and self.upper != None):\n",
    "            return x > self.lower and x < self.upper\n",
    "        elif (self.lower != None):\n",
    "            return x > self.lower\n",
    "        elif (self.upper != None):\n",
    "            return x < self.upper\n",
    "        else:\n",
    "            return true\n",
    "        \n",
    "    def is_outside(self, x):\n",
    "        return not self.is_inside(x)\n",
    "\n",
    "class OpticalElement:\n",
    "    def __init__(self, el_type, el_length = sp.Integer(0), T_matrix = None, OS_vector = None, el_limits = None):\n",
    "        self.el_type = el_type\n",
    "        self.T_matrix = T_matrix\n",
    "        self.OS_vector = OS_vector\n",
    "        self.el_limits = el_limits\n",
    "        self.el_length = el_length\n",
    "    \n",
    "    # apply this optical element to a set of rays\n",
    "    def apply(self, rays, parameters):\n",
    "        outrays = np.zeros_like(rays)\n",
    "        \n",
    "        for i in range(rays.shape[1]):\n",
    "            if (self.el_limits != None):\n",
    "                # check if ray x-coordinate is outside of optical element extent\n",
    "                if (self.el_limits.is_outside(rays[0,i])):\n",
    "                    # if yes, do nothing\n",
    "                    outrays[:,i] = rays[:,i]\n",
    "                    continue\n",
    "            \n",
    "            # apply the linear part of the optical element (transfer matrix)\n",
    "            if (self.T_matrix != None):\n",
    "                npT = sp2np(self.T_matrix, parameters)\n",
    "                outrays[:,i] += np.dot(npT, rays[:,i])\n",
    "            else:\n",
    "                outrays[:,i] += rays[:,i]\n",
    "\n",
    "            # apply the offset vector of the optical element (for prisms, non-linear)\n",
    "            if (self.OS_vector != None):\n",
    "                npOS = sp2np(self.OS_vector, parameters)\n",
    "                outrays[:,i] += npOS.flatten()\n",
    "            \n",
    "        return outrays\n",
    "    \n",
    "class ThinLens(OpticalElement):\n",
    "    def __init__(self, focal_length, extent = None):\n",
    "        super().__init__(OpticalElementType.lens, sp.Integer(0), T_thinlens(focal_length), None, extent)\n",
    "        \n",
    "class Propagation(OpticalElement):\n",
    "    def __init__(self, distance, extent = None):\n",
    "        super().__init__(OpticalElementType.propagation, distance, T_propagation(distance), None, extent)\n",
    "        \n",
    "class WedgePrism(OpticalElement):\n",
    "    def __init__(self, angle, extent = None):\n",
    "        super().__init__(OpticalElementType.wedge_prism, sp.Integer(0), None, OS_wedgeprism(angle), extent)\n",
    "\n",
    "TL_entrance = T_thinlens(f_1)\n",
    "TP_telescope = T_propagation(d_tele)\n",
    "TL_collimator = T_thinlens(f_2)\n",
    "TP_collimated = T_propagation(d_coll)\n",
    "TL_focus = T_thinlens(f_3)\n",
    "TP_focussed = T_propagation(d_focus)\n",
    "V_nl_prism = OS_wedgeprism(delta)\n",
    "\n",
    "system_elements = [\n",
    "    ThinLens(f_1),\n",
    "    Propagation(d_tele),\n",
    "    ThinLens(f_2),\n",
    "    Propagation(d_coll),\n",
    "    WedgePrism(delta, Limits(-1e10, 0)),\n",
    "    WedgePrism(-delta, Limits(0, 1e10)),\n",
    "    ThinLens(f_3),\n",
    "    Propagation(d_focus)\n",
    "]\n",
    "\n",
    "# system_elements = [\n",
    "#    (OpElType.lens, TL_entrance, f_1),\n",
    "#    (OpElType.propagation, TP_telescope, d_tele),\n",
    "#    (OpElType.lens, TL_collimator, f_2),\n",
    "#    (OpElType.propagation, TP_collimated, d_coll),\n",
    "#    (OpElType.double_wedge_prism, None, delta), # note: double wedge prism is not a linear element\n",
    "#    (OpElType.lens, TL_focus, f_3),\n",
    "#    (OpElType.propagation, TP_focussed, d_focus)\n",
    "#]\n",
    "\n",
    "focussed_constraints = [(d_tele, f_1 + f_2), (d_focus, f_3)]\n",
    "focussed_mag_constraints = [(d_focus, f_3), (f_2, M * f_1), (f_1, d_tele / (1 + M))]\n",
    "\n",
    "def focussed_system(expr):\n",
    "    return sp.expand(expr.subs(focussed_constraints))\n",
    "\n",
    "def in_terms_of_mag(expr):\n",
    "    return sp.simplify(expr.subs(focussed_mag_constraints))"
   ]
  },
  {
   "cell_type": "markdown",
   "metadata": {},
   "source": [
    "### Telescope system transfer matrix\n",
    "\n",
    "Entrance lens -> telescope propagation -> collimator lens"
   ]
  },
  {
   "cell_type": "code",
   "execution_count": 5,
   "metadata": {
    "collapsed": false
   },
   "outputs": [
    {
     "data": {
      "image/png": "[encoded data removed]",
      "text/latex": [
       "$$\\left[\\begin{matrix}\\frac{1}{f_{1}} \\left(- d_{tele} + f_{1}\\right) & d_{tele}\\\\\\frac{1}{f_{1} f_{2}} \\left(d_{tele} - f_{1} - f_{2}\\right) & \\frac{1}{f_{2}} \\left(- d_{tele} + f_{2}\\right)\\end{matrix}\\right]$$"
      ],
      "text/plain": [
       "⎡  -dₜₑₗₑ + f₁               ⎤\n",
       "⎢  ───────────       dₜₑₗₑ   ⎥\n",
       "⎢       f₁                   ⎥\n",
       "⎢                            ⎥\n",
       "⎢dₜₑₗₑ - f₁ - f₂  -dₜₑₗₑ + f₂⎥\n",
       "⎢───────────────  ───────────⎥\n",
       "⎣     f₁⋅f₂            f₂    ⎦"
      ]
     },
     "metadata": {},
     "output_type": "display_data"
    },
    {
     "data": {
      "image/png": "[encoded data removed]",
      "text/latex": [
       "$$\\left[\\begin{matrix}- \\frac{f_{2}}{f_{1}} & f_{1} + f_{2}\\\\0 & - \\frac{f_{1}}{f_{2}}\\end{matrix}\\right]$$"
      ],
      "text/plain": [
       "⎡-f₂          ⎤\n",
       "⎢────  f₁ + f₂⎥\n",
       "⎢ f₁          ⎥\n",
       "⎢             ⎥\n",
       "⎢       -f₁   ⎥\n",
       "⎢ 0     ────  ⎥\n",
       "⎣        f₂   ⎦"
      ]
     },
     "metadata": {},
     "output_type": "display_data"
    }
   ],
   "source": [
    "TS_telescope = sp.simplify(TL_collimator * TP_telescope * TL_entrance)\n",
    "TS_telescope_focussed = focussed_system(TS_telescope)\n",
    "display(TS_telescope)\n",
    "\n",
    "display(TS_telescope_focussed)"
   ]
  },
  {
   "cell_type": "markdown",
   "metadata": {},
   "source": [
    "### Focussing system transfer matrix\n",
    "\n",
    "Focussing lens -> focus propagation"
   ]
  },
  {
   "cell_type": "code",
   "execution_count": 6,
   "metadata": {
    "collapsed": false
   },
   "outputs": [
    {
     "data": {
      "image/png": "[encoded data removed]",
      "text/latex": [
       "$$\\left[\\begin{matrix}- \\frac{d_{focus}}{f_{3}} + 1 & d_{focus}\\\\- \\frac{1}{f_{3}} & 1\\end{matrix}\\right]$$"
      ],
      "text/plain": [
       "⎡  d_focus             ⎤\n",
       "⎢- ─────── + 1  d_focus⎥\n",
       "⎢     f₃               ⎥\n",
       "⎢                      ⎥\n",
       "⎢     -1               ⎥\n",
       "⎢     ───          1   ⎥\n",
       "⎣      f₃              ⎦"
      ]
     },
     "metadata": {},
     "output_type": "display_data"
    },
    {
     "data": {
      "image/png": "[encoded data removed]",
      "text/latex": [
       "$$\\left[\\begin{matrix}0 & f_{3}\\\\- \\frac{1}{f_{3}} & 1\\end{matrix}\\right]$$"
      ],
      "text/plain": [
       "⎡ 0   f₃⎤\n",
       "⎢       ⎥\n",
       "⎢-1     ⎥\n",
       "⎢───  1 ⎥\n",
       "⎣ f₃    ⎦"
      ]
     },
     "metadata": {},
     "output_type": "display_data"
    }
   ],
   "source": [
    "TS_focussing = TP_focussed * TL_focus\n",
    "TS_focussing_focussed = focussed_system(TS_focussing)\n",
    "display(TS_focussing)\n",
    "display(TS_focussing_focussed)"
   ]
  },
  {
   "cell_type": "markdown",
   "metadata": {},
   "source": [
    "### Complete *linear* system transfer matrix\n",
    "\n",
    "Telescope system -> collimated beam propagation -> focussing system\n",
    "\n",
    "Does not include wedge prism, as this is a non-linear element"
   ]
  },
  {
   "cell_type": "code",
   "execution_count": 7,
   "metadata": {
    "collapsed": false
   },
   "outputs": [
    {
     "data": {
      "image/png": "[encoded data removed]",
      "text/latex": [
       "$$\\left[\\begin{matrix}\\frac{1}{f_{1} f_{2} f_{3}} \\left(f_{2} \\left(d_{focus} - f_{3}\\right) \\left(d_{tele} - f_{1}\\right) + \\left(d_{coll} \\left(d_{focus} - f_{3}\\right) - d_{focus} f_{3}\\right) \\left(- d_{tele} + f_{1} + f_{2}\\right)\\right) & \\frac{1}{f_{2} f_{3}} \\left(- d_{tele} f_{2} \\left(d_{focus} - f_{3}\\right) + \\left(d_{tele} - f_{2}\\right) \\left(d_{coll} \\left(d_{focus} - f_{3}\\right) - d_{focus} f_{3}\\right)\\right)\\\\\\frac{1}{f_{1} f_{2} f_{3}} \\left(f_{2} \\left(d_{tele} - f_{1}\\right) + \\left(d_{coll} - f_{3}\\right) \\left(- d_{tele} + f_{1} + f_{2}\\right)\\right) & \\frac{1}{f_{2} f_{3}} \\left(- d_{tele} f_{2} + \\left(d_{coll} - f_{3}\\right) \\left(d_{tele} - f_{2}\\right)\\right)\\end{matrix}\\right]$$"
      ],
      "text/plain": [
       "⎡f₂⋅(d_focus - f₃)⋅(dₜₑₗₑ - f₁) + (d_coll⋅(d_focus - f₃) - d_focus⋅f₃)⋅(-dₜₑₗₑ\n",
       "⎢─────────────────────────────────────────────────────────────────────────────\n",
       "⎢                                        f₁⋅f₂⋅f₃                             \n",
       "⎢                                                                             \n",
       "⎢                   f₂⋅(dₜₑₗₑ - f₁) + (d_coll - f₃)⋅(-dₜₑₗₑ + f₁ + f₂)        \n",
       "⎢                   ──────────────────────────────────────────────────        \n",
       "⎣                                        f₁⋅f₂⋅f₃                             \n",
       "\n",
       " + f₁ + f₂)  -dₜₑₗₑ⋅f₂⋅(d_focus - f₃) + (dₜₑₗₑ - f₂)⋅(d_coll⋅(d_focus - f₃) - \n",
       "───────────  ─────────────────────────────────────────────────────────────────\n",
       "                                                f₂⋅f₃                         \n",
       "                                                                              \n",
       "                                -dₜₑₗₑ⋅f₂ + (d_coll - f₃)⋅(dₜₑₗₑ - f₂)        \n",
       "                                ──────────────────────────────────────        \n",
       "                                                f₂⋅f₃                         \n",
       "\n",
       "d_focus⋅f₃)⎤\n",
       "───────────⎥\n",
       "           ⎥\n",
       "           ⎥\n",
       "           ⎥\n",
       "           ⎥\n",
       "           ⎦"
      ]
     },
     "metadata": {},
     "output_type": "display_data"
    },
    {
     "data": {
      "image/png": "[encoded data removed]",
      "text/latex": [
       "$$\\left[\\begin{matrix}0 & - \\frac{f_{1} f_{3}}{f_{2}}\\\\\\frac{f_{2}}{f_{1} f_{3}} & \\frac{d_{coll} f_{1}}{f_{2} f_{3}} - \\frac{f_{1}}{f_{3}} - \\frac{f_{1}}{f_{2}} - \\frac{f_{2}}{f_{3}}\\end{matrix}\\right]$$"
      ],
      "text/plain": [
       "⎡               -f₁⋅f₃          ⎤\n",
       "⎢  0            ───────         ⎥\n",
       "⎢                  f₂           ⎥\n",
       "⎢                               ⎥\n",
       "⎢  f₂   d_coll⋅f₁   f₁   f₁   f₂⎥\n",
       "⎢─────  ───────── - ── - ── - ──⎥\n",
       "⎣f₁⋅f₃    f₂⋅f₃     f₃   f₂   f₃⎦"
      ]
     },
     "metadata": {},
     "output_type": "display_data"
    },
    {
     "data": {
      "image/png": "[encoded data removed]",
      "text/latex": [
       "$$\\left[\\begin{matrix}0 & - \\frac{f_{3}}{M}\\\\\\frac{M}{f_{3}} & \\frac{1}{M f_{3}} \\left(- M d_{tele} + d_{coll} - f_{3}\\right)\\end{matrix}\\right]$$"
      ],
      "text/plain": [
       "⎡             -f₃          ⎤\n",
       "⎢0            ────         ⎥\n",
       "⎢              M           ⎥\n",
       "⎢                          ⎥\n",
       "⎢M   -M⋅dₜₑₗₑ + d_coll - f₃⎥\n",
       "⎢──  ──────────────────────⎥\n",
       "⎣f₃           M⋅f₃         ⎦"
      ]
     },
     "metadata": {},
     "output_type": "display_data"
    }
   ],
   "source": [
    "TS_system = sp.simplify(TS_focussing * TP_collimated * TS_telescope)\n",
    "TS_system_focussed = focussed_system(TS_system)\n",
    "TS_system_focussed_mag = in_terms_of_mag(TS_system_focussed)\n",
    "\n",
    "display(TS_system)\n",
    "display(TS_system_focussed)\n",
    "display(TS_system_focussed_mag)"
   ]
  },
  {
   "cell_type": "markdown",
   "metadata": {},
   "source": [
    "## Ray tracing calculations\n",
    "\n",
    "Define a ray into the system..."
   ]
  },
  {
   "cell_type": "code",
   "execution_count": 8,
   "metadata": {
    "collapsed": false
   },
   "outputs": [
    {
     "data": {
      "image/png": "[encoded data removed]",
      "text/latex": [
       "$$\\left[\\begin{matrix}x\\\\\\theta\\end{matrix}\\right]$$"
      ],
      "text/plain": [
       "⎡x⎤\n",
       "⎢ ⎥\n",
       "⎣θ⎦"
      ]
     },
     "metadata": {},
     "output_type": "display_data"
    }
   ],
   "source": [
    "x, theta = sp.symbols(\"x, theta\")\n",
    "ray_in = sp.Matrix([x, theta])\n",
    "display(ray_in)"
   ]
  },
  {
   "cell_type": "markdown",
   "metadata": {},
   "source": [
    "(some exploratory calculations here)"
   ]
  },
  {
   "cell_type": "code",
   "execution_count": 9,
   "metadata": {
    "collapsed": false
   },
   "outputs": [
    {
     "data": {
      "image/png": "[encoded data removed]",
      "text/latex": [
       "$$\\left[\\begin{matrix}x\\\\\\theta - \\frac{x}{f_{1}}\\end{matrix}\\right]$$"
      ],
      "text/plain": [
       "⎡  x   ⎤\n",
       "⎢      ⎥\n",
       "⎢    x ⎥\n",
       "⎢θ - ──⎥\n",
       "⎣    f₁⎦"
      ]
     },
     "execution_count": 9,
     "metadata": {},
     "output_type": "execute_result"
    }
   ],
   "source": [
    "TL_entrance * ray_in"
   ]
  },
  {
   "cell_type": "code",
   "execution_count": 10,
   "metadata": {
    "collapsed": false
   },
   "outputs": [
    {
     "data": {
      "image/png": "[encoded data removed]",
      "text/latex": [
       "$$\\left[\\begin{matrix}\\theta \\left(f_{1} + f_{2}\\right) + x \\left(1 - \\frac{1}{f_{1}} \\left(f_{1} + f_{2}\\right)\\right)\\\\\\theta - \\frac{x}{f_{1}}\\end{matrix}\\right]$$"
      ],
      "text/plain": [
       "⎡                ⎛    f₁ + f₂⎞⎤\n",
       "⎢θ⋅(f₁ + f₂) + x⋅⎜1 - ───────⎟⎥\n",
       "⎢                ⎝       f₁  ⎠⎥\n",
       "⎢                             ⎥\n",
       "⎢               x             ⎥\n",
       "⎢           θ - ──            ⎥\n",
       "⎣               f₁            ⎦"
      ]
     },
     "execution_count": 10,
     "metadata": {},
     "output_type": "execute_result"
    }
   ],
   "source": [
    "T_propagation(f_1 + f_2) * TL_entrance * ray_in"
   ]
  },
  {
   "cell_type": "markdown",
   "metadata": {},
   "source": [
    "... let it propagate through the telescope ..."
   ]
  },
  {
   "cell_type": "code",
   "execution_count": 11,
   "metadata": {
    "collapsed": false
   },
   "outputs": [
    {
     "data": {
      "image/png": "[encoded data removed]",
      "text/latex": [
       "$$\\left[\\begin{matrix}f_{1} \\theta + f_{2} \\theta - \\frac{f_{2} x}{f_{1}}\\\\- \\frac{f_{1} \\theta}{f_{2}}\\end{matrix}\\right]$$"
      ],
      "text/plain": [
       "⎡              f₂⋅x⎤\n",
       "⎢f₁⋅θ + f₂⋅θ - ────⎥\n",
       "⎢               f₁ ⎥\n",
       "⎢                  ⎥\n",
       "⎢      -f₁⋅θ       ⎥\n",
       "⎢      ──────      ⎥\n",
       "⎣        f₂        ⎦"
      ]
     },
     "metadata": {},
     "output_type": "display_data"
    },
    {
     "data": {
      "image/png": "[encoded data removed]",
      "text/latex": [
       "$$\\left[\\begin{matrix}- M x + d_{tele} \\theta\\\\- \\frac{\\theta}{M}\\end{matrix}\\right]$$"
      ],
      "text/plain": [
       "⎡-M⋅x + dₜₑₗₑ⋅θ⎤\n",
       "⎢              ⎥\n",
       "⎢     -θ       ⎥\n",
       "⎢     ───      ⎥\n",
       "⎣      M       ⎦"
      ]
     },
     "metadata": {},
     "output_type": "display_data"
    }
   ],
   "source": [
    "ray_telescoped = sp.expand(TS_telescope_focussed * ray_in)\n",
    "ray_telescoped_mag = in_terms_of_mag(ray_telescoped)\n",
    "display(ray_telescoped)\n",
    "display(ray_telescoped_mag)"
   ]
  },
  {
   "cell_type": "markdown",
   "metadata": {},
   "source": [
    "... then as a quasi-collimated beam between the telescope and the focussing system ..."
   ]
  },
  {
   "cell_type": "code",
   "execution_count": 12,
   "metadata": {
    "collapsed": false
   },
   "outputs": [
    {
     "data": {
      "image/png": "[encoded data removed]",
      "text/latex": [
       "$$\\left[\\begin{matrix}- \\frac{d_{coll} f_{1}}{f_{2}} \\theta + f_{1} \\theta + f_{2} \\theta - \\frac{f_{2} x}{f_{1}}\\\\- \\frac{f_{1} \\theta}{f_{2}}\\end{matrix}\\right]$$"
      ],
      "text/plain": [
       "⎡  d_coll⋅f₁⋅θ                 f₂⋅x⎤\n",
       "⎢- ─────────── + f₁⋅θ + f₂⋅θ - ────⎥\n",
       "⎢       f₂                      f₁ ⎥\n",
       "⎢                                  ⎥\n",
       "⎢              -f₁⋅θ               ⎥\n",
       "⎢              ──────              ⎥\n",
       "⎣                f₂                ⎦"
      ]
     },
     "metadata": {},
     "output_type": "display_data"
    },
    {
     "data": {
      "image/png": "[encoded data removed]",
      "text/latex": [
       "$$\\left[\\begin{matrix}- M x + d_{tele} \\theta - \\frac{d_{coll} \\theta}{M}\\\\- \\frac{\\theta}{M}\\end{matrix}\\right]$$"
      ],
      "text/plain": [
       "⎡                 d_coll⋅θ⎤\n",
       "⎢-M⋅x + dₜₑₗₑ⋅θ - ────────⎥\n",
       "⎢                    M    ⎥\n",
       "⎢                         ⎥\n",
       "⎢           -θ            ⎥\n",
       "⎢           ───           ⎥\n",
       "⎣            M            ⎦"
      ]
     },
     "metadata": {},
     "output_type": "display_data"
    }
   ],
   "source": [
    "ray_collimated = sp.expand(TP_collimated * TS_telescope_focussed * ray_in)\n",
    "ray_collimated_mag = in_terms_of_mag(ray_collimated)\n",
    "\n",
    "display(ray_collimated)\n",
    "display(ray_collimated_mag)"
   ]
  },
  {
   "cell_type": "markdown",
   "metadata": {},
   "source": [
    "... apply the non-linear wedge prism to the ray ..."
   ]
  },
  {
   "cell_type": "code",
   "execution_count": 13,
   "metadata": {
    "collapsed": false
   },
   "outputs": [
    {
     "data": {
      "image/png": "[encoded data removed]",
      "text/latex": [
       "$$\\left[\\begin{matrix}- \\frac{d_{coll} f_{1}}{f_{2}} \\theta + f_{1} \\theta + f_{2} \\theta - \\frac{f_{2} x}{f_{1}}\\\\\\delta - \\frac{f_{1} \\theta}{f_{2}}\\end{matrix}\\right]$$"
      ],
      "text/plain": [
       "⎡  d_coll⋅f₁⋅θ                 f₂⋅x⎤\n",
       "⎢- ─────────── + f₁⋅θ + f₂⋅θ - ────⎥\n",
       "⎢       f₂                      f₁ ⎥\n",
       "⎢                                  ⎥\n",
       "⎢                 f₁⋅θ             ⎥\n",
       "⎢             δ - ────             ⎥\n",
       "⎣                  f₂              ⎦"
      ]
     },
     "metadata": {},
     "output_type": "display_data"
    },
    {
     "data": {
      "image/png": "[encoded data removed]",
      "text/latex": [
       "$$\\left[\\begin{matrix}- M x + d_{tele} \\theta - \\frac{d_{coll} \\theta}{M}\\\\\\delta - \\frac{\\theta}{M}\\end{matrix}\\right]$$"
      ],
      "text/plain": [
       "⎡                 d_coll⋅θ⎤\n",
       "⎢-M⋅x + dₜₑₗₑ⋅θ - ────────⎥\n",
       "⎢                    M    ⎥\n",
       "⎢                         ⎥\n",
       "⎢              θ          ⎥\n",
       "⎢          δ - ─          ⎥\n",
       "⎣              M          ⎦"
      ]
     },
     "metadata": {},
     "output_type": "display_data"
    }
   ],
   "source": [
    "ray_prismed = ray_collimated + V_nl_prism\n",
    "ray_prismed_mag = in_terms_of_mag(ray_prismed)\n",
    "\n",
    "display(ray_prismed)\n",
    "display(ray_prismed_mag)"
   ]
  },
  {
   "cell_type": "markdown",
   "metadata": {},
   "source": [
    "... and finally into the focussing system."
   ]
  },
  {
   "cell_type": "code",
   "execution_count": 14,
   "metadata": {
    "collapsed": false
   },
   "outputs": [
    {
     "data": {
      "image/png": "[encoded data removed]",
      "text/latex": [
       "$$\\left[\\begin{matrix}\\frac{d_{coll} d_{focus} f_{1} \\theta}{f_{2} f_{3}} - \\frac{d_{coll} f_{1}}{f_{2}} \\theta + d_{focus} \\delta - \\frac{d_{focus} f_{1}}{f_{3}} \\theta - \\frac{d_{focus} f_{1}}{f_{2}} \\theta - \\frac{d_{focus} f_{2}}{f_{3}} \\theta + \\frac{d_{focus} f_{2} x}{f_{1} f_{3}} + f_{1} \\theta + f_{2} \\theta - \\frac{f_{2} x}{f_{1}}\\\\\\frac{d_{coll} f_{1} \\theta}{f_{2} f_{3}} + \\delta - \\frac{f_{1} \\theta}{f_{3}} - \\frac{f_{1} \\theta}{f_{2}} - \\frac{f_{2} \\theta}{f_{3}} + \\frac{f_{2} x}{f_{1} f_{3}}\\end{matrix}\\right]$$"
      ],
      "text/plain": [
       "⎡d_coll⋅d_focus⋅f₁⋅θ   d_coll⋅f₁⋅θ               d_focus⋅f₁⋅θ   d_focus⋅f₁⋅θ  \n",
       "⎢─────────────────── - ─────────── + d_focus⋅δ - ──────────── - ──────────── -\n",
       "⎢       f₂⋅f₃               f₂                        f₃             f₂       \n",
       "⎢                                                                             \n",
       "⎢                                         d_coll⋅f₁⋅θ       f₁⋅θ   f₁⋅θ   f₂⋅θ\n",
       "⎢                                         ─────────── + δ - ──── - ──── - ────\n",
       "⎣                                            f₂⋅f₃           f₃     f₂     f₃ \n",
       "\n",
       " d_focus⋅f₂⋅θ   d_focus⋅f₂⋅x                 f₂⋅x⎤\n",
       " ──────────── + ──────────── + f₁⋅θ + f₂⋅θ - ────⎥\n",
       "      f₃           f₁⋅f₃                      f₁ ⎥\n",
       "                                                 ⎥\n",
       "    f₂⋅x                                         ⎥\n",
       " + ─────                                         ⎥\n",
       "   f₁⋅f₃                                         ⎦"
      ]
     },
     "metadata": {},
     "output_type": "display_data"
    },
    {
     "data": {
      "image/png": "[encoded data removed]",
      "text/latex": [
       "$$\\left[\\begin{matrix}\\delta f_{3} - \\frac{f_{3} \\theta}{M}\\\\\\frac{M x}{f_{3}} - \\frac{d_{tele} \\theta}{f_{3}} + \\delta + \\frac{d_{coll} \\theta}{M f_{3}} - \\frac{\\theta}{M}\\end{matrix}\\right]$$"
      ],
      "text/plain": [
       "⎡                 f₃⋅θ           ⎤\n",
       "⎢          δ⋅f₃ - ────           ⎥\n",
       "⎢                  M             ⎥\n",
       "⎢                                ⎥\n",
       "⎢M⋅x   dₜₑₗₑ⋅θ       d_coll⋅θ   θ⎥\n",
       "⎢─── - ─────── + δ + ──────── - ─⎥\n",
       "⎣ f₃      f₃           M⋅f₃     M⎦"
      ]
     },
     "metadata": {},
     "output_type": "display_data"
    }
   ],
   "source": [
    "ray_focussed = sp.expand(TS_focussing * ray_prismed)\n",
    "ray_focussed_mag = sp.expand(in_terms_of_mag(ray_focussed))\n",
    "\n",
    "display(ray_focussed)\n",
    "display(ray_focussed_mag)"
   ]
  },
  {
   "cell_type": "markdown",
   "metadata": {},
   "source": [
    "### Ray tracing plots through the system"
   ]
  },
  {
   "cell_type": "code",
   "execution_count": 15,
   "metadata": {
    "collapsed": false
   },
   "outputs": [],
   "source": [
    "def draw_rays(elements, parameters, inrays):\n",
    "    ray_points = np.zeros((len(elements) + 2, inrays.shape[1]))\n",
    "    x_points = np.zeros((len(elements) + 2))\n",
    "    lens_positions = np.zeros((len([el for el in elements if el.el_type == OpticalElementType.lens])))\n",
    "    \n",
    "    # matrix to hold the ray data as they propagate\n",
    "    proprays = np.copy(inrays)\n",
    "    \n",
    "    cur_x_pos = 0\n",
    "    cur_i = 0\n",
    "    cur_lens = 0\n",
    "    \n",
    "    d_in = sp.symbols(\"d_in\")\n",
    "    incoming_length = 100.0\n",
    "    parameters = [(d_in, incoming_length)] + parameters\n",
    "    \n",
    "    # trace the incoming rays back a little bit, to show them nicely\n",
    "    TP_backtrace = T_propagation(-d_in)\n",
    "    npTP_backtrace = sp2np(TP_backtrace, parameters)\n",
    "    proprays = np.dot(npTP_backtrace, proprays)\n",
    "    \n",
    "    # save the first point\n",
    "    x_points[cur_i] = cur_x_pos\n",
    "    ray_points[cur_i, :] = proprays[0,:]\n",
    "    \n",
    "    cur_i += 1\n",
    "    \n",
    "    TP_incoming = T_propagation(d_in)\n",
    "    \n",
    "    elements = [Propagation(d_in)] + elements\n",
    "    \n",
    "    for el in elements:\n",
    "        # apply transformation to the rays\n",
    "        proprays = el.apply(proprays, parameters)\n",
    "            \n",
    "        cur_x_pos += float(el.el_length.subs(parameters))\n",
    "        # add a lens point if this is a lens\n",
    "        if (el.el_type == OpticalElementType.lens):\n",
    "            lens_positions[cur_lens] = cur_x_pos\n",
    "            cur_lens += 1\n",
    "            \n",
    "            \n",
    "        x_points[cur_i] = cur_x_pos\n",
    "        ray_points[cur_i, :] = proprays[0,:]\n",
    "        \n",
    "        cur_i += 1\n",
    "        \n",
    "    max_y = np.amax(np.abs(ray_points))\n",
    "    lim_y = 1.2*max_y\n",
    "    \n",
    "    plt.figure(figsize=(15,8))\n",
    "    plt.plot(x_points, ray_points)\n",
    "    plt.ylim([-lim_y, lim_y])\n",
    "    \n",
    "    # plot the optical axis\n",
    "    plt.plot((x_points[0], x_points[-1]), (0, 0), 'k--')\n",
    "    \n",
    "    # draw the lenses\n",
    "    for lens_x in lens_positions:\n",
    "        plt.plot((lens_x, lens_x), (-lim_y, lim_y), 'k-', linewidth=2.0)\n",
    "    \n",
    "    plt.show()\n",
    "    \n",
    "    return x_points, ray_points"
   ]
  },
  {
   "cell_type": "code",
   "execution_count": 16,
   "metadata": {
    "collapsed": false
   },
   "outputs": [
    {
     "data": {
      "image/png": "[encoded data removed]",
      "text/latex": [
       "$$\\left[\\begin{matrix}- 2000 \\theta + 4.36332312998582\\\\- 4 \\theta + \\frac{x}{2000} + 0.00872664625997165\\end{matrix}\\right]$$"
      ],
      "text/plain": [
       "⎡   -2000⋅θ + 4.36332312998582    ⎤\n",
       "⎢                                 ⎥\n",
       "⎢        x                        ⎥\n",
       "⎢-4⋅θ + ──── + 0.00872664625997165⎥\n",
       "⎣       2000                      ⎦"
      ]
     },
     "metadata": {},
     "output_type": "display_data"
    },
    {
     "data": {
      "image/png": "[encoded data removed]",
      "text/plain": [
       "<matplotlib.figure.Figure at 0x10c149908>"
      ]
     },
     "metadata": {},
     "output_type": "display_data"
    }
   ],
   "source": [
    "system_parameters = [(f_1, 200), (f_2, 50), (d_coll, 62.5), (f_3, 500), (delta, np.deg2rad(0.5))]\n",
    "\n",
    "display(ray_focussed.subs(focussed_constraints + system_parameters))\n",
    "\n",
    "# incoming rays x, theta\n",
    "rays = np.array([\n",
    "        [75, 0],\n",
    "        [-75, 0],\n",
    "        [20, 1e-6],\n",
    "        [-20, 1e-6],\n",
    "    ]).T\n",
    "\n",
    "x, r = draw_rays(system_elements, focussed_constraints + system_parameters, rays)"
   ]
  },
  {
   "cell_type": "code",
   "execution_count": 17,
   "metadata": {
    "collapsed": false
   },
   "outputs": [
    {
     "name": "stdout",
     "output_type": "stream",
     "text": [
      "(10, 4)\n",
      "spot 1 position [mm]: 4.36332312999\n",
      "spot 1 deviation [um]: -1.99999999997\n",
      "spot 1 position [mm]: -4.36332312999\n",
      "spot 1 deviation [um]: -2.00000000001\n"
     ]
    }
   ],
   "source": [
    "print(r.shape)\n",
    "\n",
    "print(\"spot 1 position [mm]: \" + str(r[-1, 0]))\n",
    "print(\"spot 1 deviation [um]: \" + str((r[-1, 2] - r[-1, 0]) * 1e3))\n",
    "\n",
    "print(\"spot 1 position [mm]: \" + str(r[-1, 1]))\n",
    "print(\"spot 1 deviation [um]: \" + str((r[-1, 3] - r[-1, 1]) * 1e3))"
   ]
  },
  {
   "cell_type": "code",
   "execution_count": null,
   "metadata": {
    "collapsed": false
   },
   "outputs": [],
   "source": []
  },
  {
   "cell_type": "code",
   "execution_count": null,
   "metadata": {
    "collapsed": true
   },
   "outputs": [],
   "source": []
  }
 ],
 "metadata": {
  "anaconda-cloud": {},
  "kernelspec": {
   "display_name": "Python [conda root]",
   "language": "python",
   "name": "conda-root-py"
  },
  "language_info": {
   "codemirror_mode": {
    "name": "ipython",
    "version": 3
   },
   "file_extension": ".py",
   "mimetype": "text/x-python",
   "name": "python",
   "nbconvert_exporter": "python",
   "pygments_lexer": "ipython3",
   "version": "3.5.2"
  }
 },
 "nbformat": 4,
 "nbformat_minor": 0
}
