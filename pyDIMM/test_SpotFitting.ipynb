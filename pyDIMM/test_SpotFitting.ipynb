{
 "cells": [
  {
   "cell_type": "code",
   "execution_count": 1,
   "metadata": {
    "collapsed": false
   },
   "outputs": [
    {
     "data": {
      "text/plain": [
       "<module 'SpotFitting' from '/Users/jesse/Dropbox (IQOQI_Vienna)/1_QuCom/fried parameter measurement/DIMM project/Software/pyDIMM/SpotFitting.py'>"
      ]
     },
     "execution_count": 1,
     "metadata": {},
     "output_type": "execute_result"
    }
   ],
   "source": [
    "%matplotlib inline\n",
    "\n",
    "import numpy as np\n",
    "import matplotlib.pyplot as plt\n",
    "import SpotFitting\n",
    "import ImageConversion\n",
    "import os\n",
    "import importlib\n",
    "\n",
    "importlib.reload(SpotFitting)\n"
   ]
  },
  {
   "cell_type": "code",
   "execution_count": 2,
   "metadata": {
    "collapsed": false
   },
   "outputs": [],
   "source": [
    "basedir = \"/Users/jesse/Documents/IQOQI-nosync/DIMM/output_images\"\n",
    "\n",
    "basenames = []\n",
    "\n",
    "basenames.append(\"withouttelescopebestfocusfastshutterorig{:03d}.jpg\")\n",
    "basenames.append(\"withouttelescopebestfocusfastshutter2orig{:03d}.jpg\")\n",
    "basenames.append(\"withouttelescopebestfocusfastshutter3orig{:03d}.jpg\")\n",
    "\n",
    "files = []\n",
    "\n",
    "for j in range(3):\n",
    "    for i in range(50):\n",
    "        files.append(os.path.join(basedir, basenames[j].format(i+1)))"
   ]
  },
  {
   "cell_type": "code",
   "execution_count": 3,
   "metadata": {
    "collapsed": false
   },
   "outputs": [
    {
     "name": "stdout",
     "output_type": "stream",
     "text": [
      "Fitting spot 0\n",
      "clipped_pixels: 0\t0\n",
      "Fitting spot 1\n",
      "clipped_pixels: 4\t7\n",
      "Fitting spot 2\n",
      "clipped_pixels: 0\t0\n",
      "Fitting spot 3\n",
      "clipped_pixels: 0\t0\n",
      "Fitting spot 4\n",
      "clipped_pixels: 5\t8\n",
      "Fitting spot 5\n",
      "clipped_pixels: 3\t5\n",
      "Fitting spot 6\n",
      "clipped_pixels: 0\t0\n",
      "Fitting spot 7\n",
      "clipped_pixels: 0\t0\n",
      "Fitting spot 8\n",
      "clipped_pixels: 0\t0\n",
      "Fitting spot 9\n",
      "clipped_pixels: 0\t0\n",
      "Fitting spot 10\n",
      "clipped_pixels: 0\t0\n",
      "Fitting spot 11\n",
      "clipped_pixels: 8\t16\n",
      "Fitting spot 12\n",
      "clipped_pixels: 5\t11\n",
      "Fitting spot 13\n",
      "clipped_pixels: 0\t0\n",
      "Fitting spot 14\n",
      "clipped_pixels: 0\t1\n",
      "Fitting spot 15\n",
      "clipped_pixels: 0\t0\n",
      "Fitting spot 16\n",
      "clipped_pixels: 8\t10\n",
      "Fitting spot 17\n",
      "clipped_pixels: 0\t0\n",
      "Fitting spot 18\n",
      "clipped_pixels: 0\t0\n",
      "Fitting spot 19\n",
      "clipped_pixels: 0\t2\n",
      "Fitting spot 20\n",
      "clipped_pixels: 3\t5\n",
      "Fitting spot 21\n",
      "clipped_pixels: 0\t0\n",
      "Fitting spot 22\n",
      "clipped_pixels: 0\t0\n",
      "Fitting spot 23\n",
      "clipped_pixels: 7\t12\n",
      "Fitting spot 24\n",
      "clipped_pixels: 0\t0\n",
      "Fitting spot 25\n",
      "clipped_pixels: 0\t0\n",
      "Fitting spot 26\n",
      "clipped_pixels: 0\t0\n",
      "Fitting spot 27\n",
      "clipped_pixels: 0\t0\n",
      "Fitting spot 28\n",
      "clipped_pixels: 0\t0\n",
      "Fitting spot 29\n",
      "clipped_pixels: 0\t0\n",
      "Fitting spot 30\n",
      "clipped_pixels: 1\t10\n",
      "Fitting spot 31\n",
      "clipped_pixels: 14\t15\n",
      "Fitting spot 32\n",
      "clipped_pixels: 10\t13\n",
      "Fitting spot 33\n",
      "clipped_pixels: 0\t0\n",
      "Fitting spot 34\n",
      "clipped_pixels: 0\t0\n",
      "Fitting spot 35\n",
      "clipped_pixels: 2\t0\n",
      "Fitting spot 36\n",
      "clipped_pixels: 1\t7\n",
      "Fitting spot 37\n",
      "clipped_pixels: 0\t3\n",
      "Fitting spot 38\n",
      "clipped_pixels: 5\t7\n",
      "Fitting spot 39\n",
      "clipped_pixels: 0\t0\n",
      "Fitting spot 40\n",
      "clipped_pixels: 0\t0\n",
      "Fitting spot 41\n",
      "clipped_pixels: 4\t0\n",
      "Fitting spot 42\n",
      "clipped_pixels: 0\t0\n",
      "Fitting spot 43\n",
      "clipped_pixels: 0\t0\n",
      "Fitting spot 44\n",
      "clipped_pixels: 0\t12\n",
      "Fitting spot 45\n",
      "clipped_pixels: 0\t0\n",
      "Fitting spot 46\n",
      "clipped_pixels: 0\t0\n",
      "Fitting spot 47\n",
      "clipped_pixels: 0\t6\n",
      "Fitting spot 48\n",
      "clipped_pixels: 0\t0\n",
      "Fitting spot 49\n",
      "clipped_pixels: 0\t0\n",
      "Fitting spot 50\n",
      "clipped_pixels: 6\t8\n",
      "Fitting spot 51\n",
      "clipped_pixels: 0\t0\n",
      "Fitting spot 52\n",
      "clipped_pixels: 0\t7\n",
      "Fitting spot 53\n",
      "clipped_pixels: 10\t16\n",
      "Fitting spot 54\n",
      "clipped_pixels: 0\t0\n",
      "Fitting spot 55\n",
      "clipped_pixels: 0\t0\n",
      "Fitting spot 56\n",
      "clipped_pixels: 3\t4\n",
      "Fitting spot 57\n",
      "clipped_pixels: 6\t7\n",
      "Fitting spot 58\n",
      "clipped_pixels: 0\t0\n",
      "Fitting spot 59\n",
      "clipped_pixels: 5\t5\n",
      "Fitting spot 60\n",
      "clipped_pixels: 0\t4\n",
      "Fitting spot 61\n",
      "clipped_pixels: 0\t0\n",
      "Fitting spot 62\n",
      "clipped_pixels: 0\t0\n",
      "Fitting spot 63\n",
      "clipped_pixels: 0\t0\n",
      "Fitting spot 64\n",
      "clipped_pixels: 0\t0\n",
      "Fitting spot 65\n",
      "clipped_pixels: 0\t4\n",
      "Fitting spot 66\n",
      "clipped_pixels: 0\t9\n",
      "Fitting spot 67\n",
      "clipped_pixels: 0\t0\n",
      "Fitting spot 68\n",
      "clipped_pixels: 0\t0\n",
      "Fitting spot 69\n",
      "clipped_pixels: 10\t16\n",
      "Fitting spot 70\n",
      "clipped_pixels: 0\t1\n",
      "Fitting spot 71\n",
      "clipped_pixels: 12\t11\n",
      "Fitting spot 72\n",
      "clipped_pixels: 0\t0\n",
      "Fitting spot 73\n",
      "clipped_pixels: 0\t7\n",
      "Fitting spot 74\n",
      "clipped_pixels: 0\t0\n",
      "Fitting spot 75\n",
      "clipped_pixels: 0\t1\n",
      "Fitting spot 76\n",
      "clipped_pixels: 3\t9\n",
      "Fitting spot 77\n",
      "clipped_pixels: 0\t6\n",
      "Fitting spot 78\n",
      "clipped_pixels: 11\t14\n",
      "Fitting spot 79\n",
      "clipped_pixels: 0\t0\n",
      "Fitting spot 80\n",
      "clipped_pixels: 0\t0\n",
      "Fitting spot 81\n",
      "clipped_pixels: 0\t1\n",
      "Fitting spot 82\n",
      "clipped_pixels: 1\t6\n",
      "Fitting spot 83\n",
      "clipped_pixels: 0\t3\n",
      "Fitting spot 84\n",
      "clipped_pixels: 0\t7\n",
      "Fitting spot 85\n",
      "clipped_pixels: 5\t1\n",
      "Fitting spot 86\n",
      "clipped_pixels: 0\t5\n",
      "Fitting spot 87\n",
      "clipped_pixels: 3\t11\n",
      "Fitting spot 88\n",
      "clipped_pixels: 0\t0\n",
      "Fitting spot 89\n",
      "clipped_pixels: 0\t1\n",
      "Fitting spot 90\n",
      "clipped_pixels: 0\t1\n",
      "Fitting spot 91\n",
      "clipped_pixels: 0\t0\n",
      "Fitting spot 92\n",
      "clipped_pixels: 0\t0\n",
      "Fitting spot 93\n",
      "clipped_pixels: 5\t7\n",
      "Fitting spot 94\n",
      "clipped_pixels: 0\t0\n",
      "Fitting spot 95\n",
      "clipped_pixels: 0\t14\n",
      "Fitting spot 96\n",
      "clipped_pixels: 0\t0\n",
      "Fitting spot 97\n",
      "clipped_pixels: 5\t9\n",
      "Fitting spot 98\n",
      "clipped_pixels: 7\t7\n",
      "Fitting spot 99\n",
      "clipped_pixels: 0\t0\n",
      "Fitting spot 100\n",
      "clipped_pixels: 18\t16\n",
      "Fitting spot 101\n",
      "clipped_pixels: 0\t0\n",
      "Fitting spot 102\n",
      "clipped_pixels: 5\t11\n",
      "Fitting spot 103\n",
      "clipped_pixels: 0\t0\n",
      "Fitting spot 104\n",
      "clipped_pixels: 0\t0\n",
      "Fitting spot 105\n",
      "clipped_pixels: 1\t9\n",
      "Fitting spot 106\n",
      "clipped_pixels: 0\t0\n",
      "Fitting spot 107\n",
      "clipped_pixels: 0\t0\n",
      "Fitting spot 108\n",
      "clipped_pixels: 7\t11\n",
      "Fitting spot 109\n",
      "clipped_pixels: 0\t0\n",
      "Fitting spot 110\n",
      "clipped_pixels: 0\t0\n",
      "Fitting spot 111\n",
      "clipped_pixels: 0\t0\n",
      "Fitting spot 112\n",
      "clipped_pixels: 0\t2\n",
      "Fitting spot 113\n",
      "clipped_pixels: 0\t0\n",
      "Fitting spot 114\n",
      "clipped_pixels: 0\t0\n",
      "Fitting spot 115\n",
      "clipped_pixels: 0\t0\n",
      "Fitting spot 116\n",
      "clipped_pixels: 0\t0\n",
      "Fitting spot 117\n",
      "clipped_pixels: 15\t12\n",
      "Fitting spot 118\n",
      "clipped_pixels: 0\t0\n",
      "Fitting spot 119\n",
      "clipped_pixels: 11\t12\n",
      "Fitting spot 120\n",
      "clipped_pixels: 10\t13\n",
      "Fitting spot 121\n",
      "clipped_pixels: 14\t12\n",
      "Fitting spot 122\n",
      "clipped_pixels: 0\t0\n",
      "Fitting spot 123\n",
      "clipped_pixels: 0\t0\n",
      "Fitting spot 124\n",
      "clipped_pixels: 0\t0\n",
      "Fitting spot 125\n",
      "clipped_pixels: 0\t3\n",
      "Fitting spot 126\n",
      "clipped_pixels: 0\t0\n",
      "Fitting spot 127\n",
      "clipped_pixels: 0\t0\n",
      "Fitting spot 128\n",
      "clipped_pixels: 0\t5\n",
      "Fitting spot 129\n",
      "clipped_pixels: 0\t0\n",
      "Fitting spot 130\n",
      "clipped_pixels: 0\t0\n",
      "Fitting spot 131\n",
      "clipped_pixels: 0\t4\n",
      "Fitting spot 132\n",
      "clipped_pixels: 0\t0\n",
      "Fitting spot 133\n",
      "clipped_pixels: 0\t6\n",
      "Fitting spot 134\n",
      "clipped_pixels: 0\t0\n",
      "Fitting spot 135\n",
      "clipped_pixels: 0\t1\n",
      "Fitting spot 136\n",
      "clipped_pixels: 0\t0\n",
      "Fitting spot 137\n",
      "clipped_pixels: 0\t7\n",
      "Fitting spot 138\n",
      "clipped_pixels: 0\t0\n",
      "Fitting spot 139\n",
      "clipped_pixels: 0\t0\n",
      "Fitting spot 140\n",
      "clipped_pixels: 0\t0\n",
      "Fitting spot 141\n",
      "clipped_pixels: 0\t8\n",
      "Fitting spot 142\n",
      "clipped_pixels: 0\t0\n",
      "Fitting spot 143\n",
      "clipped_pixels: 0\t0\n",
      "Fitting spot 144\n",
      "clipped_pixels: 0\t0\n",
      "Fitting spot 145\n",
      "clipped_pixels: 0\t0\n",
      "Fitting spot 146\n",
      "clipped_pixels: 0\t4\n",
      "Fitting spot 147\n",
      "clipped_pixels: 0\t3\n",
      "Fitting spot 148\n",
      "clipped_pixels: 0\t0\n",
      "Fitting spot 149\n",
      "clipped_pixels: 1\t4\n"
     ]
    }
   ],
   "source": [
    "num_images = len(files)\n",
    "\n",
    "fcpAs = list()\n",
    "fcpBs = list()\n",
    "\n",
    "ffpAs = list()\n",
    "ffpBs = list()\n",
    "\n",
    "spotA_cparams = np.zeros((num_images, 4))\n",
    "spotB_cparams = np.zeros((num_images, 4))\n",
    "\n",
    "spotA_fparams = np.zeros((num_images, 6))\n",
    "spotB_fparams = np.zeros((num_images, 6))\n",
    "\n",
    "for i in range(0,num_images):\n",
    "    filepath = files[i]\n",
    "    print(\"Fitting spot %d\" % i)\n",
    "    ffpA, ffpB = SpotFitting.fit_spots_from_image_file(filepath, \n",
    "                                                       debug_images=False, \n",
    "                                                       split_ratio=0.45, \n",
    "                                                       displacements=([0,0],[0,0]), \n",
    "                                                       method=SpotFitting.FittingMethods.CircularClampedGaussian, \n",
    "                                                       cpopt=ImageConversion.ColorProcessingOptions.cpGreen)\n",
    "    fcpA, fcpB = SpotFitting.fit_spots_from_image_file(filepath, \n",
    "                                                       debug_images=False, \n",
    "                                                       split_ratio=0.45, \n",
    "                                                       window_radius=5.0, \n",
    "                                                       method=SpotFitting.FittingMethods.Centroid,\n",
    "                                                       cpopt=ImageConversion.ColorProcessingOptions.cpGreen)\n",
    "    print(\"clipped_pixels: %d\\t%d\" % (fcpA[-1], fcpB[-1]))\n",
    "    \n",
    "    ffpAs.append(ffpA)\n",
    "    ffpBs.append(ffpB)\n",
    "    \n",
    "    spotA_fparams[i,:] = ffpA\n",
    "    spotB_fparams[i,:] = ffpB\n",
    "    \n",
    "    fcpAs.append(fcpA)\n",
    "    fcpBs.append(fcpB)\n",
    "    \n",
    "    spotA_cparams[i,:] = fcpA\n",
    "    spotB_cparams[i,:] = fcpB"
   ]
  },
  {
   "cell_type": "code",
   "execution_count": 4,
   "metadata": {
    "collapsed": false
   },
   "outputs": [
    {
     "data": {
      "image/png": "[encoded data removed]",
      "text/plain": [
       "<matplotlib.figure.Figure at 0x10cd14b70>"
      ]
     },
     "metadata": {},
     "output_type": "display_data"
    },
    {
     "data": {
      "image/png": "[encoded data removed]",
      "text/plain": [
       "<matplotlib.figure.Figure at 0x10d88eb00>"
      ]
     },
     "metadata": {},
     "output_type": "display_data"
    },
    {
     "data": {
      "image/png": "[encoded data removed]",
      "text/plain": [
       "<matplotlib.figure.Figure at 0x10d9167b8>"
      ]
     },
     "metadata": {},
     "output_type": "display_data"
    },
    {
     "data": {
      "image/png": "[encoded data removed]",
      "text/plain": [
       "<matplotlib.figure.Figure at 0x10da5ffd0>"
      ]
     },
     "metadata": {},
     "output_type": "display_data"
    }
   ],
   "source": [
    "spotA_params = spotA_cparams\n",
    "spotB_params = spotB_cparams\n",
    "param_labels = SpotFitting.get_fitparam_labels(SpotFitting.FittingMethods.Centroid)\n",
    "\n",
    "for a in range(spotB_params.shape[-1]):\n",
    "    plt.hist(spotB_params[:,a])\n",
    "    plt.title(\"Param %s\" % param_labels[a])\n",
    "    plt.show()"
   ]
  },
  {
   "cell_type": "code",
   "execution_count": 5,
   "metadata": {
    "collapsed": false
   },
   "outputs": [],
   "source": [
    "clip_threshold = 100\n",
    "\n",
    "valid = (spotA_params[:,-1] < clip_threshold) & (spotB_params[:,-1] < clip_threshold)\n",
    "\n",
    "valid_spotA_params = spotA_params[valid,:]\n",
    "valid_spotB_params = spotB_params[valid,:]\n",
    "\n",
    "displacements = valid_spotA_params[:,1:3] - valid_spotB_params[:,1:3]\n",
    "\n",
    "mean_displacement = np.mean(displacements, axis=0)\n",
    "\n",
    "# find unit vectors for the longitudinal direction and the transverse direction to project the movement on\n",
    "l_unit_vector = mean_displacement / np.linalg.norm(mean_displacement)\n",
    "t_unit_vector = np.array([l_unit_vector[1], -l_unit_vector[0]])\n",
    "\n",
    "tf_matrix = np.zeros((2,2))\n",
    "tf_matrix[:,0] = l_unit_vector\n",
    "tf_matrix[:,1] = t_unit_vector\n",
    "\n",
    "deviations = displacements - mean_displacement\n",
    "deviations_lt = np.dot(deviations, tf_matrix)"
   ]
  },
  {
   "cell_type": "code",
   "execution_count": 6,
   "metadata": {
    "collapsed": false
   },
   "outputs": [
    {
     "data": {
      "image/png": "[encoded data removed]",
      "text/plain": [
       "<matplotlib.figure.Figure at 0x10dba3e48>"
      ]
     },
     "metadata": {},
     "output_type": "display_data"
    }
   ],
   "source": [
    "lvar = np.var(deviations_lt[:,0])\n",
    "tvar = np.var(deviations_lt[:,1])\n",
    "\n",
    "plt.hist(deviations_lt[:,0])\n",
    "plt.hist(deviations_lt[:,1])\n",
    "\n",
    "plt.show()"
   ]
  },
  {
   "cell_type": "code",
   "execution_count": 7,
   "metadata": {
    "collapsed": false
   },
   "outputs": [
    {
     "name": "stdout",
     "output_type": "stream",
     "text": [
      "0.0785551431064\n",
      "0.0542214891822\n"
     ]
    }
   ],
   "source": [
    "print(lvar)\n",
    "print(tvar)"
   ]
  },
  {
   "cell_type": "code",
   "execution_count": 8,
   "metadata": {
    "collapsed": true
   },
   "outputs": [],
   "source": [
    "pixel_size = 8.45e-6\n",
    "focal_length = 300e-3\n",
    "S = 1.88\n",
    "wl = 532e-9\n",
    "D = 6.5e-3"
   ]
  },
  {
   "cell_type": "code",
   "execution_count": 9,
   "metadata": {
    "collapsed": true
   },
   "outputs": [],
   "source": [
    "sigma_sq_theta_l = lvar*(pixel_size**2/focal_length**2)\n",
    "sigma_sq_theta_t = tvar*(pixel_size**2/focal_length**2)"
   ]
  },
  {
   "cell_type": "code",
   "execution_count": 10,
   "metadata": {
    "collapsed": false
   },
   "outputs": [],
   "source": [
    "K_l = 0.364*(1 - 0.532*S**(-1./3.) - 0.024*S**(-7./3.))\n",
    "K_t = 0.364*(1 - 0.798*S**(-1./3.) - 0.018*S**(-7./3.))"
   ]
  },
  {
   "cell_type": "code",
   "execution_count": 11,
   "metadata": {
    "collapsed": false
   },
   "outputs": [],
   "source": [
    "def r0_from_sigma_sq(sigma_sq, wl, D, K):\n",
    "    return (K * sigma_sq**-1 * wl**2 * D**(-1./3.))**(3./5.)"
   ]
  },
  {
   "cell_type": "code",
   "execution_count": 12,
   "metadata": {
    "collapsed": false
   },
   "outputs": [
    {
     "name": "stdout",
     "output_type": "stream",
     "text": [
      "0.0415813006969\n"
     ]
    }
   ],
   "source": [
    "print(r0_from_sigma_sq(sigma_sq_theta_l, wl, D, K_l))"
   ]
  },
  {
   "cell_type": "code",
   "execution_count": 13,
   "metadata": {
    "collapsed": false
   },
   "outputs": [
    {
     "name": "stdout",
     "output_type": "stream",
     "text": [
      "0.0389858495613\n"
     ]
    }
   ],
   "source": [
    "print(r0_from_sigma_sq(sigma_sq_theta_t, wl, D, K_t))"
   ]
  },
  {
   "cell_type": "code",
   "execution_count": null,
   "metadata": {
    "collapsed": true
   },
   "outputs": [],
   "source": []
  },
  {
   "cell_type": "code",
   "execution_count": null,
   "metadata": {
    "collapsed": true
   },
   "outputs": [],
   "source": []
  }
 ],
 "metadata": {
  "anaconda-cloud": {},
  "kernelspec": {
   "display_name": "Python [conda root]",
   "language": "python",
   "name": "conda-root-py"
  },
  "language_info": {
   "codemirror_mode": {
    "name": "ipython",
    "version": 3
   },
   "file_extension": ".py",
   "mimetype": "text/x-python",
   "name": "python",
   "nbconvert_exporter": "python",
   "pygments_lexer": "ipython3",
   "version": "3.5.2"
  }
 },
 "nbformat": 4,
 "nbformat_minor": 1
}
